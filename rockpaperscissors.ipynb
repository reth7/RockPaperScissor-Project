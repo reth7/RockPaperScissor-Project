{
 "cells": [
  {
   "cell_type": "code",
   "execution_count": null,
   "id": "01J9V3323ZMWRWPHZH4V87K8S2",
   "metadata": {},
   "outputs": [],
   "source": [
    "# data_link = https://www.kaggle.com/datasets/andy8744/synthetic-rock-paper-scissors-dataset\n",
    "data_path = 'D:/Downloads/RPS_dataset/generated_dataset_2000'"
   ]
  },
  {
   "cell_type": "markdown",
   "metadata": {},
   "source": [
    "# DATA PREPROCESSING"
   ]
  },
  {
   "cell_type": "code",
   "execution_count": null,
   "id": "01J9V35SCSNX8M08K836GP5Q8B",
   "metadata": {},
   "outputs": [],
   "source": [
    "from torchvision.datasets import ImageFolder\n",
    "from torchvision import transforms\n",
    "from torch.utils.data import DataLoader\n",
    "import torch\n",
    "\n",
    "# Define image transforms for preprocessing\n",
    "transform = transforms.Compose([\n",
    "    transforms.Resize((112, 112)),  # Resize images to 224x224 for ViT\n",
    "    transforms.ToTensor(),\n",
    "    transforms.Normalize(mean=[0.5, 0.5, 0.5], std=[0.5, 0.5, 0.5])\n",
    "])\n",
    "dataset = ImageFolder(root=data_path, transform=transform)\n",
    "\n",
    "# Split into train and validation sets\n",
    "train_size = int(0.8 * len(dataset))\n",
    "val_size = len(dataset) - train_size\n",
    "train_dataset, val_dataset = torch.utils.data.random_split(dataset, [train_size, val_size])\n",
    "\n",
    "# Create DataLoaders\n",
    "train_loader = DataLoader(train_dataset, batch_size=16, shuffle=True)\n",
    "val_loader = DataLoader(val_dataset, batch_size=16, shuffle=False)"
   ]
  },
  {
   "cell_type": "code",
   "execution_count": 1,
   "id": "01J9V37STQEMKYNA7HBKEZ4HMQ",
   "metadata": {},
   "outputs": [],
   "source": [
    "# handtracking using mediapipe \n",
    "import cv2\n",
    "import mediapipe as mp\n",
    "\n",
    "# Initialize MediaPipe Hand model\n",
    "mp_hands = mp.solutions.hands\n",
    "hands = mp_hands.Hands(static_image_mode=False, max_num_hands=2, min_detection_confidence=0.7)\n",
    "\n",
    "# Initialize MediaPipe drawing tools\n",
    "mp_drawing = mp.solutions.drawing_utils\n",
    "\n",
    "# Initialize webcam\n",
    "cap = cv2.VideoCapture(0)\n",
    "\n",
    "while cap.isOpened():\n",
    "    success, frame = cap.read()\n",
    "    if not success:\n",
    "        print(\"Ignoring empty camera frame.\")\n",
    "        continue\n",
    "\n",
    "    # Convert the frame color from BGR to RGB (MediaPipe requires RGB input)\n",
    "    rgb_frame = cv2.cvtColor(frame, cv2.COLOR_BGR2RGB)\n",
    "\n",
    "    # Process the RGB frame with MediaPipe Hands model\n",
    "    result = hands.process(rgb_frame)\n",
    "\n",
    "    # If hands are detected\n",
    "    if result.multi_hand_landmarks:\n",
    "        for hand_landmarks in result.multi_hand_landmarks:\n",
    "            # Draw the hand landmarks on the original BGR frame\n",
    "            mp_drawing.draw_landmarks(frame, hand_landmarks, mp_hands.HAND_CONNECTIONS)\n",
    "\n",
    "            # Display the hand landmark points on the frame\n",
    "            for idx, landmark in enumerate(hand_landmarks.landmark):\n",
    "                height, width, _ = frame.shape\n",
    "                cx, cy = int(landmark.x * width), int(landmark.y * height)\n",
    "                \n",
    "                # Draw circles at the landmark points\n",
    "                cv2.circle(frame, (cx, cy), 5, (0, 255, 0), cv2.FILLED)\n",
    "\n",
    "    # Display the result\n",
    "    cv2.imshow('MediaPipe Hands', frame)\n",
    "\n",
    "    # Break loop if 'q' is pressed\n",
    "    if cv2.waitKey(5) & 0xFF == ord('q'):\n",
    "        break\n",
    "\n",
    "# Release the webcam and close OpenCV windows\n",
    "cap.release()\n",
    "cv2.destroyAllWindows()\n"
   ]
  },
  {
   "cell_type": "code",
   "execution_count": null,
   "id": "01J9V38MESXWJTWBM67Z4Q81YY",
   "metadata": {},
   "outputs": [],
   "source": []
  }
 ],
 "metadata": {
  "kernelspec": {
   "display_name": "Python 3",
   "language": "python",
   "name": "python3"
  },
  "language_info": {
   "codemirror_mode": {
    "name": "ipython",
    "version": 3
   },
   "file_extension": ".py",
   "mimetype": "text/x-python",
   "name": "python",
   "nbconvert_exporter": "python",
   "pygments_lexer": "ipython3",
   "version": "3.9.7"
  }
 },
 "nbformat": 4,
 "nbformat_minor": 2
}
